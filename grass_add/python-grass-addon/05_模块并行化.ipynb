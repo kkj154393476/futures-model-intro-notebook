{
 "cells": [
  {
   "cell_type": "markdown",
   "metadata": {},
   "source": [
    "# 模块并行化"
   ]
  },
  {
   "cell_type": "markdown",
   "metadata": {},
   "source": [
    "模块的并行化可以缩减模块的运算时间。\n",
    "\n",
    "但是必须先确定影响算法效率的原因是算法本身还是串行的影响。\n",
    "\n",
    "科学任务（例如数值建模）的步骤通常如下所示：   \n",
    "\n",
    "    +------------------+                        +---------------+\n",
    "    |    输入数据       |                        |               |\n",
    "    |    初始状态       +----------------------->| final results |\n",
    "    |                  |     长时间的计算任务     |               |\n",
    "    +------------------+                        +---------------+\n",
    "\n",
    "In GIS, we are commonly dealing with rather simple chained computations that are applied to (massive) input data requiring several heavy partial results before to obtain the result:\n",
    "\n",
    "在GIS中，我们通常处理相当简单的链式计算，该计算适用于有大量输入数据时，需要一些重复的计算过程才能得到结果：\n",
    "\n",
    "    +------------+\n",
    "    |            |       +---------+    +---------+    +---------+\n",
    "    | input data +------>| partial +--->| partial +--->| partial +\n",
    "    |            |       | results |    | results |    | results |\n",
    "    +------------+       +---------+    +---------+    +----+----+\n",
    "                                                            |\n",
    "                                                            |\n",
    "    +---------------+    +---------+    +---------+    +---------+\n",
    "    |               |<---+ partial |<---+ partial |<---+ partial |\n",
    "    | final results |    | results |    | results |    | results |\n",
    "    |               |    +---------+    +---------+    +----+----+\n",
    "    +---------------+                                        \n",
    "\n",
    "对于并行化任务，在GIS处理中，主要瓶颈通常是在数据密集型计算步骤中的最大硬盘读写速度。\n",
    "\n",
    "\n",
    "在开始使用CPU的所有内核之前，请确保检查系统的读/写功能是否已饱和，例如可以使用系统监控器工具完成。"
   ]
  },
  {
   "cell_type": "markdown",
   "metadata": {},
   "source": [
    "## ParallelModuleQueue 并行计算类"
   ]
  },
  {
   "cell_type": "markdown",
   "metadata": {},
   "source": [
    "并行执行几个模块的简单方法（由SörenGebbert开发）是使用ParallelModuleQueue类，其基本思想是创建一个队列，其中包含执行并行计算的所有模块。\n",
    "\n",
    "ParallelModuleQueue类基于pygrass库的Module类，下面是一个用于视域计算的小示例："
   ]
  },
  {
   "cell_type": "code",
   "execution_count": 1,
   "metadata": {},
   "outputs": [],
   "source": [
    "# import the necessary libraries\n",
    "from copy import deepcopy\n",
    "\n",
    "from grass.pygrass.modules import Module, ParallelModuleQueue\n",
    "from grass.pygrass.vector import VectorTopo"
   ]
  },
  {
   "cell_type": "code",
   "execution_count": 2,
   "metadata": {},
   "outputs": [],
   "source": [
    "# define the global variables with the inputs\n",
    "TMP_VIEWSHED = 'tmp_viewshed_{:03}'\n",
    "ELEV = 'elevation'\n",
    "POINTS = 'view_points'"
   ]
  },
  {
   "cell_type": "code",
   "execution_count": 3,
   "metadata": {},
   "outputs": [],
   "source": [
    "# we set the region to elevation map\n",
    "region = Module('g.region', raster='elevation')"
   ]
  },
  {
   "cell_type": "code",
   "execution_count": 4,
   "metadata": {},
   "outputs": [],
   "source": [
    "# initialize an empty queue and list 实例化一个空队列\n",
    "queue = ParallelModuleQueue(nprocs=4)\n",
    "viewsheds = []"
   ]
  },
  {
   "cell_type": "code",
   "execution_count": 5,
   "metadata": {},
   "outputs": [
    {
     "name": "stdout",
     "output_type": "stream",
     "text": [
      "1\n",
      "2\n"
     ]
    }
   ],
   "source": [
    "# initialize a module instance with shared inputs\n",
    "viewshed = Module('r.viewshed', input=ELEV, observer_elevation=3,\n",
    "                  run_=False, overwrite=True)\n",
    "\n",
    "# open the input vector map and start cycling over the vector points\n",
    "with VectorTopo(POINTS, mode='r') as points:\n",
    "    for point in points:\n",
    "        # create a copy of the module and set the remaining parameters\n",
    "        print(point.id)\n",
    "        m = deepcopy(viewshed)(output=TMP_VIEWSHED.format(point.id),\n",
    "                               coordinates=point.coords())\n",
    "        viewsheds.append(m)\n",
    "        queue.put(m)#将每次的计算放到并行队列中\n",
    "    queue.wait()\n"
   ]
  },
  {
   "cell_type": "code",
   "execution_count": 6,
   "metadata": {},
   "outputs": [
    {
     "data": {
      "text/plain": [
       "[Module('r.viewshed'), Module('r.viewshed')]"
      ]
     },
     "execution_count": 6,
     "metadata": {},
     "output_type": "execute_result"
    }
   ],
   "source": [
    "viewsheds"
   ]
  },
  {
   "cell_type": "code",
   "execution_count": null,
   "metadata": {},
   "outputs": [],
   "source": []
  }
 ],
 "metadata": {
  "kernelspec": {
   "display_name": "Python 2",
   "language": "python",
   "name": "python2"
  },
  "language_info": {
   "codemirror_mode": {
    "name": "ipython",
    "version": 2
   },
   "file_extension": ".py",
   "mimetype": "text/x-python",
   "name": "python",
   "nbconvert_exporter": "python",
   "pygments_lexer": "ipython2",
   "version": "2.7.12"
  }
 },
 "nbformat": 4,
 "nbformat_minor": 1
}
