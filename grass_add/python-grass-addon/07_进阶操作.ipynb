{
 "cells": [
  {
   "cell_type": "markdown",
   "metadata": {},
   "source": [
    "# 进阶操作"
   ]
  },
  {
   "cell_type": "markdown",
   "metadata": {},
   "source": [
    "在本节中，我们将讨论一些主题，这些主题对于编写模块可能不是必需的，但绝对值得考虑。\n"
   ]
  },
  {
   "cell_type": "markdown",
   "metadata": {},
   "source": [
    "## 测试脚本"
   ]
  },
  {
   "cell_type": "markdown",
   "metadata": {},
   "source": [
    "为了表明代码能够按预期工作并确保将来继续工作，应该为新模块编写一个测试，可以使用Python或Bash将此类测试编写为通用脚本。\n",
    "\n",
    "在Python中的[doctest](https://docs.python.org/2/library/doctest.html)可以用于对代码中的部分模块进行测试。\n",
    "\n",
    "但是，在GRASS GIS中，其专用的Python测试包为[gunittest](http://grass.osgeo.org/grass71/manuals/libpython/gunittest_testing.html)其中包含使GRASS GIS模块测试尽可能方便的功能。\n",
    "\n",
    "`grass.gunittest`包在‘trunk’版本中可用，版本信息可查看[development version](http://grass.osgeo.org/download/software/sources/)\n",
    "\n",
    "测试是作为类的函数（方法）编写的，该类是从`grass.gunittest.case`包中的`TestCase`继承的。测试函数名称必须以`test_`开头，`test_`函数可以有一个或多个。`runModule（）`函数用于测试不直接调用的模块。使用`assertModule（）`函数以给定的参数调用正在测试的模块，并且期望过程能够成功完成。在每次调用test_函数之前和之后都会调用`setUp（）`和`tearDown（）`函数，应该始终删除创建的地图（使用`g.remove`）。"
   ]
  },
  {
   "cell_type": "code",
   "execution_count": 1,
   "metadata": {
    "collapsed": true
   },
   "outputs": [
    {
     "name": "stdout",
     "output_type": "stream",
     "text": [
      "OSError error(2): No such file or directory\n",
      "OSError error(2): No such file or directory\n"
     ]
    },
    {
     "name": "stderr",
     "output_type": "stream",
     "text": [
      "EE\n",
      "======================================================================\n",
      "ERROR: test_area_matches (__main__.TestViewshedPoint)\n",
      "Test if areas are correct\n",
      "----------------------------------------------------------------------\n",
      "Traceback (most recent call last):\n",
      "  File \"<stdin>\", line 21, in setUp\n",
      "  File \"/usr/lib/grass76/etc/python/grass/gunittest/case.py\", line 1074, in runModule\n",
      "    module = _module_from_parameters(module, **kwargs)\n",
      "  File \"/usr/lib/grass76/etc/python/grass/gunittest/case.py\", line 1205, in _module_from_parameters\n",
      "    module = SimpleModule(module, **kwargs)\n",
      "  File \"/usr/lib/grass76/etc/python/grass/gunittest/gmodules.py\", line 54, in __init__\n",
      "    Module.__init__(self, cmd, *args, **kargs)\n",
      "  File \"/usr/lib/grass76/etc/python/grass/pygrass/modules/interface/module.py\", line 530, in __init__\n",
      "    raise GrassError(str_err % self.name)\n",
      "GrassError: Error running: `r.viewshed.points --interface-description`.\n",
      "\n",
      "======================================================================\n",
      "ERROR: test_outputs_exists (__main__.TestViewshedPoint)\n",
      "Test that output maps exist\n",
      "----------------------------------------------------------------------\n",
      "Traceback (most recent call last):\n",
      "  File \"<stdin>\", line 21, in setUp\n",
      "  File \"/usr/lib/grass76/etc/python/grass/gunittest/case.py\", line 1074, in runModule\n",
      "    module = _module_from_parameters(module, **kwargs)\n",
      "  File \"/usr/lib/grass76/etc/python/grass/gunittest/case.py\", line 1205, in _module_from_parameters\n",
      "    module = SimpleModule(module, **kwargs)\n",
      "  File \"/usr/lib/grass76/etc/python/grass/gunittest/gmodules.py\", line 54, in __init__\n",
      "    Module.__init__(self, cmd, *args, **kargs)\n",
      "  File \"/usr/lib/grass76/etc/python/grass/pygrass/modules/interface/module.py\", line 530, in __init__\n",
      "    raise GrassError(str_err % self.name)\n",
      "GrassError: Error running: `r.viewshed.points --interface-description`.\n",
      "\n",
      "----------------------------------------------------------------------\n",
      "Ran 2 tests in 0.280s\n",
      "FAILED (errors=2)\n"
     ]
    }
   ],
   "source": [
    "%%python\n",
    "# Only available for GRASS GIS 7.1 (and above)\n",
    "from grass.gunittest.case import TestCase\n",
    "from grass.gunittest.main import test\n",
    "import grass.script as gscript\n",
    "\n",
    "class TestViewshedPoint(TestCase):\n",
    "\n",
    "    prefix = 'test_rviewshedpoints_'\n",
    "\n",
    "    @classmethod\n",
    "    def setUpClass(cls):\n",
    "        \"\"\"Ensure expected computational region and create input vector points\"\"\"\n",
    "        cls.use_temp_region()\n",
    "        cls.runModule('g.region', n=225200, s=222500, w=637500, e=640000, raster='elevation')\n",
    "        cls.runModule('v.random', output=cls.prefix + 'input_points', npoints=10, seed=2)\n",
    "\n",
    "    def setUp(self):\n",
    "        \"\"\"Create r.viewshed.points output for every test method\"\"\"\n",
    "        self.runModule('r.viewshed.points', elevation='elevation',\n",
    "                       points=self.prefix + 'input_points', output_points=self.prefix + 'output_points',\n",
    "                       viewshed_basename=self.prefix + 'output_viewshed')\n",
    "\n",
    "    def tearDown(self):\n",
    "        \"\"\"Remove r.viewshed.points output after every test\"\"\"\n",
    "        self.runModule('g.remove', type=['raster', 'vector'], pattern=self.prefix + '*', flags='f')\n",
    "\n",
    "    def test_outputs_exists(self):\n",
    "        \"\"\"Test that output maps exist\"\"\"\n",
    "        num_viewsheds = len(gscript.list_grouped(['raster'],\n",
    "                                                 pattern=self.prefix + '*')[gscript.gisenv()['MAPSET']])\n",
    "        self.assertEqual(first=10, second=num_viewsheds, msg=\"Wrong number of viewsheds computed\")\n",
    "        self.assertVectorExists(self.prefix + 'output_points')\n",
    "        \n",
    "    def test_area_matches(self):\n",
    "        \"\"\"Test if areas are correct\"\"\"\n",
    "        minmax = {'min': 392800, 'max': 1759000}\n",
    "        self.assertVectorFitsUnivar(map=self.prefix + 'output_points', column='area',\n",
    "                                    reference=minmax, precision=1e-6)\n",
    "\n",
    "\n",
    "if __name__ == '__main__':\n",
    "    test()\n"
   ]
  },
  {
   "cell_type": "markdown",
   "metadata": {},
   "source": [
    "## 创建GUI工具箱"
   ]
  },
  {
   "cell_type": "markdown",
   "metadata": {},
   "source": [
    "可以将新的Python模块放入GRASS GIS的标准图形用户界面中，GUI工具箱是一种在wxGUI菜单中自定义项目的方法，只需要生成一个XML文件并将其复制到预定义目录即可，XML文件可能如下所示："
   ]
  },
  {
   "cell_type": "code",
   "execution_count": 2,
   "metadata": {},
   "outputs": [
    {
     "name": "stdout",
     "output_type": "stream",
     "text": [
      "Writing toolboxes.xml\n"
     ]
    }
   ],
   "source": [
    "%%file toolboxes.xml\n",
    "<?xml version=\"1.0\" encoding=\"UTF-8\"?>\n",
    "<toolboxes>\n",
    "  <toolbox name=\"Viewsheds\">\n",
    "    <label>Viewsheds</label>\n",
    "    <items>\n",
    "      <module-item name=\"r.viewshed.points\">\n",
    "        <label>Compute special viewsheds</label>\n",
    "      </module-item>\n",
    "      <module-item name=\"r.viewshed\">\n",
    "        <label>Compute standard viewshed</label>\n",
    "      </module-item>\n",
    "      <module-item name=\"g.region\">\n",
    "        <label>Set region</label>\n",
    "      </module-item>\n",
    "      <module-item name=\"v.random\">\n",
    "        <label>Generate random points</label>\n",
    "      </module-item>\n",
    "      <separator/>\n",
    "    </items>\n",
    "  </toolbox>\n",
    "</toolboxes>"
   ]
  },
  {
   "cell_type": "markdown",
   "metadata": {},
   "source": [
    "必须将此文件`toolboxes.xml`复制到主目录中的GRASS GIS配置目录（例如，Linux上的`〜/ .grass7 / toolboxes / toolboxes.xml`）。 下次启动GRASS GIS GUI（`g.gui`）时，在“图层管理器”窗口的“搜索模块”选项卡的模块树中的“用户定义的工具箱”下看到新的工具箱。"
   ]
  },
  {
   "cell_type": "markdown",
   "metadata": {},
   "source": [
    "## GRASS GIS社区"
   ]
  },
  {
   "cell_type": "markdown",
   "metadata": {},
   "source": [
    "如有疑问，最好的询问地点是在[grass-user](http://lists.osgeo.org/listinfo/grass-user)邮件列表上，这也是宣布新插件的好地方。\n",
    "\n",
    "如果您正在开发新的插件，并且需要开发人员的帮助，则可以编写[grass-dev](http://lists.osgeo.org/listinfo/grass-dev)邮件列表。\n",
    "\n",
    "还有一些本地化的GRASS GIS邮件列表，您可以在[dedicated mailing list web page](http://grass.osgeo.org/support/mailing-lists/)上找到它们。\n",
    "\n",
    "[Google+](https://plus.google.com/communities/111147786674687562495)上还有一个GRASS GIS社区正在等待您与GRASS GIS相关的新闻和一个[Facebook group](https://www.facebook.com/groups/96121775724/)。\n"
   ]
  },
  {
   "cell_type": "markdown",
   "metadata": {},
   "source": [
    "## 下一步"
   ]
  },
  {
   "cell_type": "markdown",
   "metadata": {},
   "source": [
    "我们正在寻找具有各种技能的人员来改善GRASS GIS项目：我们正在寻找翻译人员，网站设计师，网站内容管理员，程序员，教学人员和课程人员，以及GRASS GIS倡导者。"
   ]
  },
  {
   "cell_type": "markdown",
   "metadata": {},
   "source": [
    "您也可以帮助我们[sponsoring](http://grass.osgeo.org/support/our-sponsors/) GRASS GIS（也欢迎小额捐款！），也可以[report errors or enhancement wishes](http://grass.osgeo.org/development/bug-tracking/)参与其中！"
   ]
  }
 ],
 "metadata": {
  "kernelspec": {
   "display_name": "Python 2",
   "language": "python",
   "name": "python2"
  },
  "language_info": {
   "codemirror_mode": {
    "name": "ipython",
    "version": 2
   },
   "file_extension": ".py",
   "mimetype": "text/x-python",
   "name": "python",
   "nbconvert_exporter": "python",
   "pygments_lexer": "ipython2",
   "version": "2.7.12"
  }
 },
 "nbformat": 4,
 "nbformat_minor": 1
}
