{
 "cells": [
  {
   "cell_type": "code",
   "execution_count": 1,
   "metadata": {},
   "outputs": [
    {
     "name": "stdout",
     "output_type": "stream",
     "text": [
      "Writing r.test.py\n"
     ]
    }
   ],
   "source": [
    "%%writefile r.test.py\n",
    "#!/usr/bin/python\n",
    "#\n",
    "############################################################################\n",
    "#\n",
    "# MODULE:       r.viewshed.sum.py\n",
    "# AUTHOR(S):    Anna, Luca, Markus, Vaclav, Pietro\n",
    "# PURPOSE:      Performs a \"cumulative viewshed analysis\" using a vector points map as input\n",
    "#               \"viewing\" locations, and calls r.viewshed to calculate the individual viewsheds.\n",
    "# COPYRIGHT:    (C) 2015 by GRASS GIS development team\n",
    "# REFERENCES:   Uses r.viewshed\n",
    "#\n",
    "#               This program is free software under the GNU General Public\n",
    "#               License (>=v2). Read the file COPYING that comes with GRASS\n",
    "#               for details.\n",
    "#\n",
    "#############################################################################\n",
    "\n",
    "#%module\n",
    "#% description: Performs a \"cumulative viewshed analysis\" using a vector points map as input \"viewing\" locations, and calls r.viewshed to calculate the individual viewsheds.\n",
    "#% keyword: raster\n",
    "#% keyword: viewshed\n",
    "#%end\n",
    "\n",
    "#%option G_OPT_R_INPUT\n",
    "#%end\n",
    "#%option G_OPT_V_INPUT\n",
    "#% key: vector\n",
    "#% description: Name of input vector points map containg the set of viewpoints\n",
    "#%end\n",
    "#%option G_OPT_R_OUTPUT\n",
    "#% key: output\n",
    "#% description: Output cumulative viewshed raster map\n",
    "#%end\n",
    "\n",
    "#%option\n",
    "#% key: observer_elevation\n",
    "#% type: double\n",
    "#% description: Viewing elevation above the ground\n",
    "#%answer: 1.75\n",
    "#% required : no\n",
    "#%end\n",
    "#%option\n",
    "#% key: target_elevation\n",
    "#% type: double\n",
    "#% description: Offset for target elevation above the ground\n",
    "#%answer: 0.0\n",
    "#% required : no\n",
    "#%end\n",
    "\n",
    "#%flag\n",
    "#% key: k\n",
    "#% label: Keep all interim viewshed maps\n",
    "#% description:  Keep all interim viewshed maps (maps will be named \"vshed_'name'\", where 'name' is the value in \"name_column\" for each input point. If no value specified in \"name_column\", cat value will be used instead)\n",
    "#%end\n",
    "####################################################\n",
    "# from future import module for python2 backward compatibility\n",
    "from __future__ import print_function\n",
    "\n",
    "# import modules and functions from the standard library\n",
    "from pprint import pprint\n",
    "\n",
    "# import modules and function from GRASS\n",
    "import grass.script as gscript\n",
    "\n",
    "\n",
    "def main(opts, flgs):\n",
    "    print('Options:')\n",
    "    pprint(opts)\n",
    "    print('Flags:')\n",
    "    pprint(flgs)\n",
    "\n",
    "\n",
    "if __name__ == \"__main__\":\n",
    "    import sys\n",
    "    options, flags = gscript.parser()\n",
    "    sys.exit(main(options, flags))\n"
   ]
  },
  {
   "cell_type": "code",
   "execution_count": 2,
   "metadata": {},
   "outputs": [],
   "source": [
    "!echo -en '\\n' >> r.test.py"
   ]
  },
  {
   "cell_type": "code",
   "execution_count": 3,
   "metadata": {},
   "outputs": [
    {
     "name": "stdout",
     "output_type": "stream",
     "text": [
      "Performs a \"cumulative viewshed analysis\" using a vector points map as input \"viewing\" locations, and calls r.viewshed to calculate the individual viewsheds.\r\n",
      "\r\n",
      "Usage:\r\n",
      " r.test.py [-k] input=name vector=name output=name\r\n",
      "   [observer_elevation=value] [target_elevation=value] [--overwrite]\r\n",
      "   [--help] [--verbose] [--quiet] [--ui]\r\n",
      "\r\n",
      "Flags:\r\n",
      "  -k   Keep all interim viewshed maps\r\n",
      "\r\n",
      "Parameters:\r\n",
      "               input   Name of input raster map\r\n",
      "              vector   Name of input vector map\r\n",
      "              output   Output cumulative viewshed raster map\r\n",
      "  observer_elevation   Viewing elevation above the ground\r\n",
      "                       default: 1.75\r\n",
      "    target_elevation   Offset for target elevation above the ground\r\n",
      "                       default: 0.0\r\n"
     ]
    }
   ],
   "source": [
    "!python r.test.py --help"
   ]
  },
  {
   "cell_type": "code",
   "execution_count": 4,
   "metadata": {},
   "outputs": [],
   "source": [
    "!python r.test.py"
   ]
  },
  {
   "cell_type": "code",
   "execution_count": 5,
   "metadata": {},
   "outputs": [
    {
     "ename": "ImportError",
     "evalue": "No module named options",
     "output_type": "error",
     "traceback": [
      "\u001b[0;31m\u001b[0m",
      "\u001b[0;31mImportError\u001b[0mTraceback (most recent call last)",
      "\u001b[0;32m<ipython-input-5-ef4b6da369eb>\u001b[0m in \u001b[0;36m<module>\u001b[0;34m()\u001b[0m\n\u001b[0;32m----> 1\u001b[0;31m \u001b[0;32mfrom\u001b[0m \u001b[0moptions\u001b[0m \u001b[0;32mimport\u001b[0m \u001b[0mparse_options\u001b[0m\u001b[0;34m,\u001b[0m \u001b[0mOptTable\u001b[0m\u001b[0;34m\u001b[0m\u001b[0m\n\u001b[0m\u001b[1;32m      2\u001b[0m \u001b[0;34m\u001b[0m\u001b[0m\n\u001b[1;32m      3\u001b[0m \u001b[0;32mwith\u001b[0m \u001b[0mopen\u001b[0m\u001b[0;34m(\u001b[0m\u001b[0;34m'parser_standard_options.txt'\u001b[0m\u001b[0;34m,\u001b[0m \u001b[0mmode\u001b[0m\u001b[0;34m=\u001b[0m\u001b[0;34m'r'\u001b[0m\u001b[0;34m)\u001b[0m \u001b[0;32mas\u001b[0m \u001b[0mcfile\u001b[0m\u001b[0;34m:\u001b[0m\u001b[0;34m\u001b[0m\u001b[0m\n\u001b[1;32m      4\u001b[0m     \u001b[0moptions\u001b[0m \u001b[0;34m=\u001b[0m \u001b[0mOptTable\u001b[0m\u001b[0;34m(\u001b[0m\u001b[0mparse_options\u001b[0m\u001b[0;34m(\u001b[0m\u001b[0mcfile\u001b[0m\u001b[0;34m.\u001b[0m\u001b[0mreadlines\u001b[0m\u001b[0;34m(\u001b[0m\u001b[0;34m)\u001b[0m\u001b[0;34m)\u001b[0m\u001b[0;34m)\u001b[0m\u001b[0;34m\u001b[0m\u001b[0m\n\u001b[1;32m      5\u001b[0m \u001b[0moptions\u001b[0m\u001b[0;34m\u001b[0m\u001b[0m\n",
      "\u001b[0;31mImportError\u001b[0m: No module named options"
     ]
    }
   ],
   "source": [
    "from options import parse_options, OptTable\n",
    "\n",
    "with open('parser_standard_options.txt', mode='r') as cfile:\n",
    "    options = OptTable(parse_options(cfile.readlines()))\n",
    "options"
   ]
  },
  {
   "cell_type": "code",
   "execution_count": null,
   "metadata": {},
   "outputs": [],
   "source": []
  }
 ],
 "metadata": {
  "kernelspec": {
   "display_name": "Python 2",
   "language": "python",
   "name": "python2"
  },
  "language_info": {
   "codemirror_mode": {
    "name": "ipython",
    "version": 2
   },
   "file_extension": ".py",
   "mimetype": "text/x-python",
   "name": "python",
   "nbconvert_exporter": "python",
   "pygments_lexer": "ipython2",
   "version": "2.7.12"
  }
 },
 "nbformat": 4,
 "nbformat_minor": 1
}
