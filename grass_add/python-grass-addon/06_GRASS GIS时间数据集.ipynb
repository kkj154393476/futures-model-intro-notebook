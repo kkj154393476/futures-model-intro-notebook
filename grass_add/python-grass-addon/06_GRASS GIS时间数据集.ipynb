{
 "cells": [
  {
   "cell_type": "markdown",
   "metadata": {},
   "source": [
    "# GRASS GIS时间框架快速入门"
   ]
  },
  {
   "cell_type": "markdown",
   "metadata": {},
   "source": [
    "GRASS GIS时间框架在用户级别实现了时间GIS功能，并提供了一个API以实现新的时空处理模块。\n",
    "\n",
    "[temporal framework](http://grass.osgeo.org/grass70/manuals/temporalintro.html)引入时空数据集来表示时间序列的栅格，3D栅格或矢量地图。\n",
    "\n",
    "它提供了如下的功能：\n",
    "\n",
    "* 为地图分配时间戳并在时间数据库中注册地图\n",
    "* 修改时间戳\n",
    "* 创建，重命名和删除时空数据集\n",
    "* 在时空数据集中注册和注销地图\n",
    "* 使用SQL'WHERE'语句查询在时空数据集中注册的地图\n",
    "* 分析时空数据集的时空拓扑\n",
    "* 时空数据集采样\n",
    "* 计算已注册地图之间的时空关系\n",
    "* 模块之间共享的高级功能\n",
    "* 上述大多数功能是专用地图图层和时空数据集类的成员功能。\n",
    "\n",
    "以下三种相关的数据类型可被用于构建时空数据集：\n",
    "\n",
    "* 时空栅格数据集（*strds*）用于管理栅格地图时间序列。处理*strds*的模块具有命名前缀*t.rast*\n",
    "* 时空3D栅格数据集（*str3ds*）用于管理3D栅格地图时间序列。处理*str3ds*的模块具有命名前缀*t.rast3d \n",
    "* 时空矢量数据集（*stvds*）用于管理矢量地图时间序列。处理*tvds*的模块具有命名前缀*t.vect *\n",
    "\n",
    "参考文献: Gebbert, S., Pebesma, E., 2014. TGRASS: *A temporal GIS for field based environmental modeling.* Environmental Modelling & Software 53, 1-12. https://doi.org/10.1016/j.envsoft.2013.11.001"
   ]
  },
  {
   "cell_type": "code",
   "execution_count": 1,
   "metadata": {},
   "outputs": [],
   "source": [
    "import grass.temporal as tgis\n",
    "import grass.script as gscript"
   ]
  },
  {
   "cell_type": "markdown",
   "metadata": {},
   "source": [
    "## 创建时空数据集"
   ]
  },
  {
   "cell_type": "markdown",
   "metadata": {},
   "source": [
    "首先，初始化一个时空数据集实例："
   ]
  },
  {
   "cell_type": "code",
   "execution_count": 2,
   "metadata": {},
   "outputs": [],
   "source": [
    "tgis.init()"
   ]
  },
  {
   "cell_type": "markdown",
   "metadata": {},
   "source": [
    "接下来，创建一个空的时空栅格数据集，指定其名称，类型（此处为：strds），时间类型（绝对，相对），标题和描述。可以将时间数据集想象为所选数据的容器，该时间戳将它们排序，描述其时空关系并保存所有类型的元数据。 这些地图本身仍是标准的GRASS GIS地图。"
   ]
  },
  {
   "cell_type": "code",
   "execution_count": 3,
   "metadata": {},
   "outputs": [],
   "source": [
    "dataset_name = 'temperature'\n",
    "dataset = tgis.open_new_stds(name=dataset_name, type='strds', temporaltype='absolute',\n",
    "                             title=\"Temperature in Raleigh\", descr=\"Created for test purposes\",\n",
    "                             semantic='mean', overwrite=True)"
   ]
  },
  {
   "cell_type": "markdown",
   "metadata": {},
   "source": [
    "检查数据集是否被创建成功："
   ]
  },
  {
   "cell_type": "code",
   "execution_count": 4,
   "metadata": {
    "collapsed": true
   },
   "outputs": [
    {
     "name": "stdout",
     "output_type": "stream",
     "text": [
      "id=temperature@FUTURES_triangle\n",
      "name=temperature\n",
      "mapset=FUTURES_triangle\n",
      "creator=geo\n",
      "temporal_type=absolute\n",
      "creation_time='2020-05-12 17:49:13.338092'\n",
      "modification_time='2020-05-12 17:49:13.338133'\n",
      "semantic_type=mean\n",
      "start_time='None'\n",
      "end_time='None'\n",
      "granularity='None'\n",
      "map_time=None\n",
      "north=None\n",
      "south=None\n",
      "east=None\n",
      "west=None\n",
      "top=None\n",
      "bottom=None\n",
      "aggregation_type=None\n",
      "number_of_maps=None\n",
      "nsres_min=None\n",
      "nsres_max=None\n",
      "ewres_min=None\n",
      "ewres_max=None\n",
      "min_min=None\n",
      "min_max=None\n",
      "max_min=None\n",
      "max_max=None\n",
      "raster_register=raster_map_register_56f94090b60e4efbaf8a3af080ae98e4\n"
     ]
    }
   ],
   "source": [
    "# Print some info about the new dataset\n",
    "dataset.print_shell_info()"
   ]
  },
  {
   "cell_type": "markdown",
   "metadata": {},
   "source": [
    "## 向数据集中导入栅格地图"
   ]
  },
  {
   "cell_type": "markdown",
   "metadata": {},
   "source": [
    "使用最小值和最大值创建一组温度随机图"
   ]
  },
  {
   "cell_type": "code",
   "execution_count": 5,
   "metadata": {},
   "outputs": [
    {
     "name": "stdout",
     "output_type": "stream",
     "text": [
      "['temp_1', 'temp_2', 'temp_3', 'temp_4', 'temp_5', 'temp_6', 'temp_7', 'temp_8', 'temp_9', 'temp_10', 'temp_11', 'temp_12']\n"
     ]
    }
   ],
   "source": [
    "# monthly mean Raleigh temperature\n",
    "# 月平均温度\n",
    "nc_temp_data = {1:[30, 51], 2: [32, 54], 3: [40, 63], 4: [48, 72],\n",
    "                5:[57, 80], 6: [66, 87], 7: [70, 90], 8: [69, 88],\n",
    "                9:[62, 82], 10:[50, 73], 11:[41, 64], 12:[32, 54]}\n",
    "# list of maps to add into temporal dataset\n",
    "# 要添加到时间数据集中的地图列表\n",
    "maps = []\n",
    "gscript.run_command('g.region', raster='elevation')\n",
    "\n",
    "for month, values in nc_temp_data.iteritems():\n",
    "    map_name = \"temp_{mon}\".format(mon=month)\n",
    "    # 随机生成栅格图\n",
    "    gscript.run_command('r.random.surface', output=map_name, seed=values, high=values[1], overwrite=True)\n",
    "    \n",
    "    maps.append(map_name)\n",
    "print maps"
   ]
  },
  {
   "cell_type": "markdown",
   "metadata": {},
   "source": [
    "现在，将创建的地图注册到时间数据集中："
   ]
  },
  {
   "cell_type": "code",
   "execution_count": 6,
   "metadata": {},
   "outputs": [],
   "source": [
    "tgis.register_maps_in_space_time_dataset(type='raster', name=dataset_name, maps=','.join(maps), start='2014-01-01',\n",
    "                                         increment=\"1 month\", interval=True, update_cmd_list=True)"
   ]
  },
  {
   "cell_type": "markdown",
   "metadata": {},
   "source": [
    "接下来，更新时间数据集的信息并打印其元数据："
   ]
  },
  {
   "cell_type": "code",
   "execution_count": 7,
   "metadata": {
    "scrolled": true
   },
   "outputs": [
    {
     "name": "stdout",
     "output_type": "stream",
     "text": [
      "id=temperature@FUTURES_triangle\n",
      "name=temperature\n",
      "mapset=FUTURES_triangle\n",
      "creator=geo\n",
      "temporal_type=absolute\n",
      "creation_time='2020-05-12 17:49:13.338092'\n",
      "modification_time='2020-05-12 17:54:06.591407'\n",
      "semantic_type=mean\n",
      "start_time='2014-01-01 00:00:00'\n",
      "end_time='2015-01-01 00:00:00'\n",
      "granularity='1 month'\n",
      "map_time=interval\n",
      "north=228500.0\n",
      "south=215000.0\n",
      "east=645000.0\n",
      "west=630000.0\n",
      "top=0.0\n",
      "bottom=0.0\n",
      "aggregation_type=None\n",
      "number_of_maps=12\n",
      "nsres_min=10.0\n",
      "nsres_max=10.0\n",
      "ewres_min=10.0\n",
      "ewres_max=10.0\n",
      "min_min=1.0\n",
      "min_max=1.0\n",
      "max_min=51.0\n",
      "max_max=90.0\n",
      "raster_register=raster_map_register_56f94090b60e4efbaf8a3af080ae98e4\n"
     ]
    }
   ],
   "source": [
    "dataset.update_from_registered_maps()\n",
    "dataset.print_shell_info()"
   ]
  },
  {
   "cell_type": "markdown",
   "metadata": {},
   "source": [
    "## 查询现有的时间数据集"
   ]
  },
  {
   "cell_type": "markdown",
   "metadata": {},
   "source": [
    "在本例中，将学习如何从时间数据集中提取点的值。"
   ]
  },
  {
   "cell_type": "code",
   "execution_count": 8,
   "metadata": {},
   "outputs": [],
   "source": [
    "coors = (638000, 222800.0)"
   ]
  },
  {
   "cell_type": "markdown",
   "metadata": {},
   "source": [
    "获取时间数据集对象"
   ]
  },
  {
   "cell_type": "code",
   "execution_count": 9,
   "metadata": {},
   "outputs": [],
   "source": [
    "strds = tgis.open_old_stds(dataset_name, \"strds\")"
   ]
  },
  {
   "cell_type": "markdown",
   "metadata": {},
   "source": [
    "现在可以获取所有已注册的地图："
   ]
  },
  {
   "cell_type": "code",
   "execution_count": 11,
   "metadata": {
    "collapsed": true
   },
   "outputs": [
    {
     "data": {
      "text/plain": [
       "[<sqlite3.Row at 0x7f3996f74770>,\n",
       " <sqlite3.Row at 0x7f3996f74610>,\n",
       " <sqlite3.Row at 0x7f3996f74510>,\n",
       " <sqlite3.Row at 0x7f3996f74630>,\n",
       " <sqlite3.Row at 0x7f3996f745d0>,\n",
       " <sqlite3.Row at 0x7f3996f744f0>,\n",
       " <sqlite3.Row at 0x7f3996f745f0>,\n",
       " <sqlite3.Row at 0x7f3996f747b0>,\n",
       " <sqlite3.Row at 0x7f3996f747d0>,\n",
       " <sqlite3.Row at 0x7f3996f747f0>,\n",
       " <sqlite3.Row at 0x7f3996f74810>,\n",
       " <sqlite3.Row at 0x7f3996f74830>]"
      ]
     },
     "execution_count": 11,
     "metadata": {},
     "output_type": "execute_result"
    }
   ],
   "source": [
    "rows = strds.get_registered_maps(columns=\"name,mapset,start_time,end_time\",\n",
    "                                 where=None, order=\"start_time\")\n",
    "rows"
   ]
  },
  {
   "cell_type": "markdown",
   "metadata": {},
   "source": [
    "获取有关已注册地图的信息（名称，开始时间），并使用GRASS GIS命令`r.what`查询数据："
   ]
  },
  {
   "cell_type": "code",
   "execution_count": 12,
   "metadata": {},
   "outputs": [
    {
     "name": "stdout",
     "output_type": "stream",
     "text": [
      "OrderedDict([('temp_1@FUTURES_triangle', {'date': datetime.datetime(2014, 1, 1, 0, 0), 'value': '27'}), ('temp_2@FUTURES_triangle', {'date': datetime.datetime(2014, 2, 1, 0, 0), 'value': '21'}), ('temp_3@FUTURES_triangle', {'date': datetime.datetime(2014, 3, 1, 0, 0), 'value': '31'}), ('temp_4@FUTURES_triangle', {'date': datetime.datetime(2014, 4, 1, 0, 0), 'value': '34'}), ('temp_5@FUTURES_triangle', {'date': datetime.datetime(2014, 5, 1, 0, 0), 'value': '46'}), ('temp_6@FUTURES_triangle', {'date': datetime.datetime(2014, 6, 1, 0, 0), 'value': '65'}), ('temp_7@FUTURES_triangle', {'date': datetime.datetime(2014, 7, 1, 0, 0), 'value': '42'}), ('temp_8@FUTURES_triangle', {'date': datetime.datetime(2014, 8, 1, 0, 0), 'value': '30'}), ('temp_9@FUTURES_triangle', {'date': datetime.datetime(2014, 9, 1, 0, 0), 'value': '41'}), ('temp_10@FUTURES_triangle', {'date': datetime.datetime(2014, 10, 1, 0, 0), 'value': '42'}), ('temp_11@FUTURES_triangle', {'date': datetime.datetime(2014, 11, 1, 0, 0), 'value': '25'}), ('temp_12@FUTURES_triangle', {'date': datetime.datetime(2014, 12, 1, 0, 0), 'value': '21'})])\n"
     ]
    }
   ],
   "source": [
    "from collections import OrderedDict\n",
    "infos = OrderedDict()\n",
    "for row in rows:\n",
    "    name = row[\"name\"] + \"@\" + row[\"mapset\"]\n",
    "    values = gscript.read_command('r.what', map=name, coordinates=coors).strip().split('|')\n",
    "    infos[name] = {'date': row[\"start_time\"], 'value': values[3]}\n",
    "print infos"
   ]
  },
  {
   "cell_type": "markdown",
   "metadata": {},
   "source": [
    "### 写入CSV文件"
   ]
  },
  {
   "cell_type": "markdown",
   "metadata": {},
   "source": [
    "要在Python中写出CSV文件，应使用CSV模块。 因此，导入CSV和tempfile模块，然后在临时目录中创建一个新的CSV文件："
   ]
  },
  {
   "cell_type": "code",
   "execution_count": 13,
   "metadata": {},
   "outputs": [
    {
     "name": "stdout",
     "output_type": "stream",
     "text": [
      "/tmp/grass7-geo-112214/tmpOzNsDp.csv\n"
     ]
    }
   ],
   "source": [
    "import csv\n",
    "import tempfile\n",
    "fil = tempfile.NamedTemporaryFile(delete=False)\n",
    "fil.name = fil.name + '.csv'\n",
    "print fil.name"
   ]
  },
  {
   "cell_type": "markdown",
   "metadata": {},
   "source": [
    "现在，对于从时间数据集中读取的每条记录，该过程将各自的记录存储在CSV文件中："
   ]
  },
  {
   "cell_type": "code",
   "execution_count": 14,
   "metadata": {},
   "outputs": [],
   "source": [
    "with open(fil.name, 'wb') as csvfile:\n",
    "    spamwriter = csv.writer(csvfile, delimiter=';',\n",
    "                            quoting=csv.QUOTE_MINIMAL)\n",
    "    spamwriter.writerow(['Map_name', 'Date', 'Temp'])\n",
    "    \n",
    "    for mapp, vals in infos.iteritems():\n",
    "        spamwriter.writerow([mapp, vals['date'].strftime('%Y-%m-%d'), vals['value']])\n",
    "fil.close()"
   ]
  },
  {
   "cell_type": "markdown",
   "metadata": {},
   "source": [
    "为了验证，我们可以简单地使用`cat` shell命令将CSV文件打印到终端："
   ]
  },
  {
   "cell_type": "code",
   "execution_count": 15,
   "metadata": {},
   "outputs": [
    {
     "name": "stdout",
     "output_type": "stream",
     "text": [
      "Map_name;Date;Temp\r",
      "\r\n",
      "temp_1@FUTURES_triangle;2014-01-01;27\r",
      "\r\n",
      "temp_2@FUTURES_triangle;2014-02-01;21\r",
      "\r\n",
      "temp_3@FUTURES_triangle;2014-03-01;31\r",
      "\r\n",
      "temp_4@FUTURES_triangle;2014-04-01;34\r",
      "\r\n",
      "temp_5@FUTURES_triangle;2014-05-01;46\r",
      "\r\n",
      "temp_6@FUTURES_triangle;2014-06-01;65\r",
      "\r\n",
      "temp_7@FUTURES_triangle;2014-07-01;42\r",
      "\r\n",
      "temp_8@FUTURES_triangle;2014-08-01;30\r",
      "\r\n",
      "temp_9@FUTURES_triangle;2014-09-01;41\r",
      "\r\n",
      "temp_10@FUTURES_triangle;2014-10-01;42\r",
      "\r\n",
      "temp_11@FUTURES_triangle;2014-11-01;25\r",
      "\r\n",
      "temp_12@FUTURES_triangle;2014-12-01;21\r",
      "\r\n"
     ]
    }
   ],
   "source": [
    "!cat {fil.name}"
   ]
  },
  {
   "cell_type": "markdown",
   "metadata": {},
   "source": [
    "### 使用 Matplotlib可视化数据"
   ]
  },
  {
   "cell_type": "markdown",
   "metadata": {},
   "source": [
    "要使用`Matplotlib`可视化数据，必须先导入一些库："
   ]
  },
  {
   "cell_type": "code",
   "execution_count": 16,
   "metadata": {},
   "outputs": [],
   "source": [
    "%matplotlib inline\n",
    "import matplotlib.pyplot as plt\n",
    "import matplotlib.dates as mdates"
   ]
  },
  {
   "cell_type": "markdown",
   "metadata": {},
   "source": [
    "创建x，y值的list"
   ]
  },
  {
   "cell_type": "code",
   "execution_count": 17,
   "metadata": {},
   "outputs": [
    {
     "name": "stdout",
     "output_type": "stream",
     "text": [
      "[datetime.datetime(2014, 1, 1, 0, 0), datetime.datetime(2014, 2, 1, 0, 0), datetime.datetime(2014, 3, 1, 0, 0), datetime.datetime(2014, 4, 1, 0, 0), datetime.datetime(2014, 5, 1, 0, 0), datetime.datetime(2014, 6, 1, 0, 0), datetime.datetime(2014, 7, 1, 0, 0), datetime.datetime(2014, 8, 1, 0, 0), datetime.datetime(2014, 9, 1, 0, 0), datetime.datetime(2014, 10, 1, 0, 0), datetime.datetime(2014, 11, 1, 0, 0), datetime.datetime(2014, 12, 1, 0, 0)]\n",
      "['27', '21', '31', '34', '46', '65', '42', '30', '41', '42', '25', '21']\n"
     ]
    }
   ],
   "source": [
    "x = []\n",
    "y = []\n",
    "for mapp, vals in infos.iteritems():\n",
    "    x.append(vals['date'])\n",
    "    y.append(vals['value'])\n",
    "print x\n",
    "print y"
   ]
  },
  {
   "cell_type": "markdown",
   "metadata": {},
   "source": [
    "最后将温度变化可视化出来"
   ]
  },
  {
   "cell_type": "code",
   "execution_count": 18,
   "metadata": {},
   "outputs": [
    {
     "data": {
      "image/png": "[encoded data removed]",
      "text/plain": [
       "<Figure size 432x288 with 1 Axes>"
      ]
     },
     "metadata": {
      "needs_background": "light"
     },
     "output_type": "display_data"
    }
   ],
   "source": [
    "# create the plot\n",
    "fig, ax = plt.subplots()\n",
    "# create the plot line\n",
    "ax.plot(x,y, label='2014 monthly temperature', color='red')\n",
    "# set the format of X axis label\n",
    "ax.xaxis.set_major_formatter(mdates.DateFormatter('%Y-%m'))\n",
    "# set the title of graph\n",
    "plt.title('Monthly temperature');\n",
    "# add legend and set it lower-center position\n",
    "ax.legend(loc='lower center')\n",
    "# fix the position/rotation of X lavel\n",
    "fig.autofmt_xdate()\n",
    "# set the label for X and Y axis\n",
    "ax.set_xlabel('Month')\n",
    "ax.set_ylabel('Fahrenheit temp')\n",
    "# show the graph\n",
    "plt.show()"
   ]
  },
  {
   "cell_type": "markdown",
   "metadata": {},
   "source": [
    "## 额外提示\n"
   ]
  },
  {
   "cell_type": "markdown",
   "metadata": {},
   "source": [
    "### 将地图解除在时间数据集中注册\n"
   ]
  },
  {
   "cell_type": "markdown",
   "metadata": {},
   "source": [
    "要从时间数据集中删除地图（不会真正删除它们，而只是从时间数据集中取消注册），首先应创建一个新的时间数据集对象。 然后，使用这个新的数据集对象，我们使用`unregister_map`函数删除选定的地图："
   ]
  },
  {
   "cell_type": "code",
   "execution_count": 19,
   "metadata": {},
   "outputs": [],
   "source": [
    "remove_map = tgis.RasterDataset('temp_12@{mapset}'.format(mapset=gscript.gisenv()['MAPSET']))\n",
    "dataset.unregister_map(remove_map)\n",
    "dataset.update_from_registered_maps()"
   ]
  },
  {
   "cell_type": "markdown",
   "metadata": {},
   "source": [
    "### 删除一个时间数据集"
   ]
  },
  {
   "cell_type": "markdown",
   "metadata": {},
   "source": [
    "\n",
    "从时间数据库中删除时空数据集（同样，所包含的地图保留在GRASS GIS中）可以使用`delete`函数直接从同一对象中完成："
   ]
  },
  {
   "cell_type": "code",
   "execution_count": 20,
   "metadata": {},
   "outputs": [
    {
     "data": {
      "text/plain": [
       "''"
      ]
     },
     "execution_count": 20,
     "metadata": {},
     "output_type": "execute_result"
    }
   ],
   "source": [
    "dataset.delete()"
   ]
  }
 ],
 "metadata": {
  "kernelspec": {
   "display_name": "Python 2",
   "language": "python",
   "name": "python2"
  },
  "language_info": {
   "codemirror_mode": {
    "name": "ipython",
    "version": 2
   },
   "file_extension": ".py",
   "mimetype": "text/x-python",
   "name": "python",
   "nbconvert_exporter": "python",
   "pygments_lexer": "ipython2",
   "version": "2.7.12"
  }
 },
 "nbformat": 4,
 "nbformat_minor": 1
}
