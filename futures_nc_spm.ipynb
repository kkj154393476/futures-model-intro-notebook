{
 "cells": [
  {
   "cell_type": "markdown",
   "metadata": {},
   "source": [
    "## DESCRIPTION\n",
    "\n",
    "_r.futures.*_ is an implementation of FUTure Urban-Regional\n",
    "Environment Simulation (FUTURES) which is a model for multilevel\n",
    "simulations of emerging urban-rural landscape structure. FUTURES\n",
    "produces regional projections of landscape patterns using coupled\n",
    "submodels that integrate nonstationary drivers of land change: per\n",
    "capita demand (DEMAND submodel), site suitability (POTENTIAL submodel),\n",
    "and the spatial structure of conversion events (PGA submodel).\n",
    "\n",
    "\n",
    "### Submodels\n",
    "\n",
    "  _DEMAND_\n",
    "  DEMAND estimates the rate of per capita land consumption\n",
    "  specific to each subregion. Projections of land consumption are based\n",
    "  on extrapolations between historical changes in population\n",
    "  and land conversion based on scenarios of future population growth.\n",
    "  How to construct the per capita demand relationship for subregions depends\n",
    "  on user's preferences and data availability.\n",
    "  Land area conversion over time can be derived for the USA, e.g.\n",
    "  from National Land Cover Dataset.\n",
    "  A possible implementation of the DEMAND submodel is available as module\n",
    "  _[r.futures.demand](r.futures.demand.html)_.\n",
    "\n",
    "  _POTENTIAL_\n",
    "  The POTENTIAL submodel uses site suitability modeling approaches\n",
    "  to quantify spatial gradients of land development potential.\n",
    "  The model uses multilevel logistic regression to\n",
    "  account for hierarchical characteristics of the land use system\n",
    "  (variation among jurisdictional structures) and\n",
    "  account for divergent relationships between predictor and response variables.\n",
    "  To generate a binary, developed-undeveloped response variable\n",
    "  using a stratified-random sample,\n",
    "  see module _[r.sample.category](r.sample.category.html)_.\n",
    "  The coefficients for the statistical model that are used to\n",
    "  calculate the value of development potential can be derived in different ways,\n",
    "  one possible implementation using R will be available\n",
    "  as module _r.futures.potential_.\n",
    "  One of the predictor variables is development pressure (computed using\n",
    "  _[r.futures.devpressure](r.futures.devpressure.html)_)\n",
    "  which is updated each step and thus creates positive feedback\n",
    "  resulting in new development attracting even more development.\n",
    "  \n",
    "\n",
    "  _PGA_\n",
    "  Patch-Growing Algorithm is a stochastic algorithm, which\n",
    "  simulates undeveloped to developed land change by iterative site selection\n",
    "  and a contextually aware region growing mechanism.\n",
    "  Simulations of change at each time step feed development pressure back\n",
    "  to the POTENTIAL submodel, influencing site suitability for the next step.\n",
    "  PGA is implemented in [r.futures.pga](r.futures.pga.html).\n",
    "\n",
    "\n",
    "\n",
    "\n",
    "\n",
    "\n",
    "Figure: FUTURES submodels and input data\n",
    "\n",
    "\n",
    "### Input data\n",
    "We need to collect the following data:\n",
    "\n",
    "  _Study extent and resolution_\n",
    "  Specified with _[g.region](g.region.html)_ command.\n",
    "  _Subregions_\n",
    "  FUTURES is designed to capture variation across specified subregions\n",
    "  within the full study extent. Subregions can be for example counties.\n",
    "  DEMAND and POTENTIAL can both be specified\n",
    "  according to subregions.\n",
    "  Subregion raster map contains the subregion index for each cell as integer starting from 1.\n",
    "  If you do not wish to model by subregion, all values in this map should be 1.\n",
    "\n",
    "  _Population data_\n",
    "  DEMAND submodel needs historical population data for each subregion\n",
    "   for reference period and population projections for the simulated period.\n",
    "  _Development change_\n",
    "  Based on the change in developed cells in the beginning and\n",
    "  end of the reference period, and the population data,\n",
    "  DEMAND computes how many cells to convert for each region at each time step.\n",
    "  Development change is also used for deriving the patch sizes and shape in calibration step\n",
    "  (see _[r.futures.calib](r.futures.calib.html)_) to be used in PGA submodel.\n",
    "  DEMAND and PGA require a raster map representing the starting state\n",
    "  of the landscape at the beginning of the simulation (developed = 1,\n",
    "  available for development = 0, excluded from development as NULLs).\n",
    "  _Predictors_\n",
    "  Development potential (POTENTIAL submodel) requires\n",
    "  a set of uncorrelated predictors (raster maps) driving the land change.\n",
    "  These can include distance to roads, distance to interchanges, slope, ...\n",
    "  _Development pressure_\n",
    "  The development pressure variable is one of the predictors,\n",
    "  but it is recalculated at each time step to allow for positive feedback\n",
    "  (new development attracts more development). For computing development pressure,\n",
    "  see _[r.futures.devpressure.](r.futures.devpressure.html)_\n",
    "\n",
    "\n",
    "\n",
    "\n",
    "\n",
    "\n",
    "Figure: FUTURES simulation result\n",
    "\n",
    "\n",
    "## EXAMPLE\n",
    "Simple example using nc_spm_08_grass7 dataset.\n",
    "Please see [tutorials on GRASS wiki](https://grasswiki.osgeo.org/wiki/FUTURES_land-change_modeling_for_evaluating_innovative_conservation_scenarios)\n",
    " for more realistic examples.\n",
    "\n",
    "Create rasters representing urbanization using NDVI, exclude lakes:"
   ]
  },
  {
   "cell_type": "code",
   "execution_count": null,
   "metadata": {},
   "outputs": [],
   "source": [
    "# This is a quick introduction into Jupyter Notebook.\n",
    "# Python code can be executed like this:\n",
    "a = 6\n",
    "b = 7\n",
    "c = a * b\n",
    "print(\"Answer is\", c)\n",
    "# Python code can be mixed with command line code (Bash).\n",
    "# It is enough just to prefix the command line with an exclamation mark:\n",
    "!echo \"Answer is $c\"\n",
    "# Use Shift+Enter to execute this cell. The result is below."
   ]
  },
  {
   "cell_type": "code",
   "execution_count": null,
   "metadata": {},
   "outputs": [],
   "source": [
    "import os\n",
    "import sys\n",
    "import subprocess\n",
    "from IPython.display import Image\n",
    "\n",
    "# create GRASS GIS runtime environment\n",
    "gisbase = subprocess.check_output([\"grass\", \"--config\", \"path\"]).strip()\n",
    "os.environ['GISBASE'] = gisbase\n",
    "sys.path.append(os.path.join(gisbase, \"etc\", \"python\"))\n",
    "\n",
    "# do GRASS GIS imports\n",
    "import grass.script as gs\n",
    "import grass.script.setup as gsetup\n",
    "\n",
    "# set GRASS GIS session data\n",
    "rcfile = gsetup.init(gisbase, \"data/grassdata\", \"nc_basic_spm_grass7\", \"user1\")"
   ]
  },
  {
   "cell_type": "code",
   "execution_count": null,
   "metadata": {},
   "outputs": [],
   "source": [
    "# default font displays\n",
    "os.environ['GRASS_FONT'] = 'sans'\n",
    "# overwrite existing maps\n",
    "os.environ['GRASS_OVERWRITE'] = '1'\n",
    "gs.set_raise_on_error(True)\n",
    "gs.set_capture_stderr(True)"
   ]
  },
  {
   "cell_type": "code",
   "execution_count": null,
   "metadata": {},
   "outputs": [],
   "source": [
    "# set display modules to render into a file (named map.png by default)\n",
    "os.environ['GRASS_RENDER_IMMEDIATE'] = 'cairo'\n",
    "os.environ['GRASS_RENDER_FILE_READ'] = 'TRUE'\n",
    "os.environ['GRASS_LEGEND_FILE'] = 'legend.txt'"
   ]
  },
  {
   "cell_type": "code",
   "execution_count": null,
   "metadata": {},
   "outputs": [],
   "source": [
    "gs.run_command('g.region', raster=\"lsat7_2002_30@PERMANENT\")\n",
    "gs.run_command('i.vi', red=\"lsat7_2002_30@PERMANENT\", output=\"ndvi_2002\", nir=\"lsat7_2002_40@PERMANENT\")\n",
    "gs.run_command('i.vi', red=\"lsat5_1987_30@landsat\", output=\"ndvi_1987\", nir=\"lsat5_1987_40@landsat\")\n",
    "gs.run_command('r.mapcalc', expression=\"urban_1987 = if(ndvi_1987 <= 0.1 && isnull(lakes), 1, if(isnull(lakes), 0, null()))\")\n",
    "gs.run_command('r.mapcalc', expression=\"urban_2002 = if(ndvi_2002 <= 0.1 && isnull(lakes), 1, if(isnull(lakes), 0, null()))\")"
   ]
  },
  {
   "cell_type": "markdown",
   "metadata": {},
   "source": [
    "Create predictors - slope, distance from lakes in km, distance from roads in km, development pressure:"
   ]
  },
  {
   "cell_type": "code",
   "execution_count": null,
   "metadata": {},
   "outputs": [],
   "source": [
    "gs.run_command('r.slope.aspect', elevation=\"elevation\", slope=\"slope\")\n",
    "gs.run_command('r.grow.distance', input=\"lakes\", distance=\"lakes_dist\")\n",
    "gs.mapcalc(\"lakes_dist_km = lakes_dist/1000.\")\n",
    "gs.run_command('v.to.rast', input=\"streets_wake\", output=\"streets\", use=\"val\")\n",
    "gs.run_command('r.grow.distance', input=\"streets\", distance=\"streets_dist\")\n",
    "gs.mapcalc(\"streets_dist_km = streets_dist/1000.\")\n",
    "gs.run_command('r.futures.devpressure', input=\"urban_2002\", output=\"devpressure\", method=\"gravity\", size=\"15\", flags='n')"
   ]
  },
  {
   "cell_type": "markdown",
   "metadata": {},
   "source": [
    "Sample predictors and developed areas:"
   ]
  },
  {
   "cell_type": "code",
   "execution_count": null,
   "metadata": {},
   "outputs": [],
   "source": [
    "gs.run_command('r.sample.category', input=\"urban_2002\", output=\"sampling\", sampled=\"slope,lakes_dist_km,streets_dist_km,devpressure,zipcodes\", npoints=\"300,100\")"
   ]
  },
  {
   "cell_type": "markdown",
   "metadata": {},
   "source": [
    "Compute POTENTIAL regression coefficients, using zipcodes as subregion:"
   ]
  },
  {
   "cell_type": "code",
   "execution_count": null,
   "metadata": {},
   "outputs": [],
   "source": [
    "gs.run_command('r.futures.potential', input=\"sampling\", output=\"potential.csv\", columns=\"devpressure,slope,lakes_dist_km,streets_dist_km\", developed_column=\"urban_2002\", subregions_column=\"zipcodes\")"
   ]
  },
  {
   "cell_type": "markdown",
   "metadata": {},
   "source": [
    "Compute how many cells should be converted in each subregion:"
   ]
  },
  {
   "cell_type": "code",
   "execution_count": null,
   "metadata": {},
   "outputs": [],
   "source": [
    "gs.run_command('r.futures.demand', development=\"urban_1987,urban_2002\", subregions=\"zipcodes\", observed_population=\"observed_population.csv\", projected_population=\"projected_population.csv\", simulation_times=\"2003,2004,2005,2006,2007,2008,2009,2010\", method=\"linear,logarithmic,exponential\", demand=\"demand.csv\")"
   ]
  },
  {
   "cell_type": "markdown",
   "metadata": {},
   "source": [
    "Create a list of patch sizes (here we skip calibration of patch sizes for simplicity):"
   ]
  },
  {
   "cell_type": "code",
   "execution_count": null,
   "metadata": {},
   "outputs": [],
   "source": [
    "gs.run_command('r.futures.calib', development_start=\"urban_1987\", development_end=\"urban_2002\", patch_threshold=\"0\", patch_sizes=\"patches.txt\", subregions=\"zipcodes\", flags='l', overwrite=True)"
   ]
  },
  {
   "cell_type": "markdown",
   "metadata": {},
   "source": [
    "Run patch growing to get final results:"
   ]
  },
  {
   "cell_type": "code",
   "execution_count": null,
   "metadata": {},
   "outputs": [],
   "source": [
    "gs.run_command('r.futures.pga',\n",
    "               developed=\"urban_2002\",\n",
    "               subregions=\"zipcodes\",\n",
    "               output=\"futures\",\n",
    "               output_series=\"futures\",\n",
    "               predictors=\"slope,lakes_dist_km,streets_dist_km\",\n",
    "               devpot_params=\"potential.csv\",\n",
    "               development_pressure=\"devpressure\",\n",
    "               n_dev_neighbourhood=\"15\",\n",
    "               development_pressure_approach=\"gravity\",\n",
    "               gamma=\"1.5\",\n",
    "               scaling_factor=\"1\",\n",
    "               demand=\"demand.csv\", discount_factor=\"0.1\", compactness_mean=\"0.4\", compactness_range=\"0.05\", num_neighbors=\"4\",\n",
    "               seed_search=\"2\", patch_sizes=\"patches.txt\", random_seed=\"1\")"
   ]
  },
  {
   "cell_type": "markdown",
   "metadata": {},
   "source": [
    "[\n",
    "\n",
    "](r_futures_ncsmp.png)\n",
    "Figure: One stochastic realization of FUTURES simulation, orange to yellow gradient represents new development\n",
    "where yellow is the latest.\n",
    "\n",
    "\n",
    "## REFERENCES\n",
    "\n",
    "\n",
    "* \n",
    "    Meentemeyer, R. K., Tang, W., Dorning, M. A., Vogler, J. B., Cunniffe, N. J., & Shoemaker, D. A. (2013).\n",
    "    [FUTURES: Multilevel Simulations of Emerging\n",
    "    Urban-Rural Landscape Structure Using a Stochastic Patch-Growing Algorithm](http://dx.doi.org/10.1080/00045608.2012.707591).\n",
    "    Annals of the Association of American Geographers, 103(4), 785-807.\n",
    "    DOI: 10.1080/00045608.2012.707591\n",
    "* Dorning, M. A., Koch, J., Shoemaker, D. A., & Meentemeyer, R. K. (2015).\n",
    "   [Simulating urbanization scenarios reveals\n",
    "    tradeoffs between conservation planning strategies](http://dx.doi.org/10.1016/j.landurbplan.2014.11.011).\n",
    "    Landscape and Urban Planning, 136, 28-39.\n",
    "    DOI: 10.1016/j.landurbplan.2014.11.011\n",
    "* Petrasova, A., Petras, V., Van Berkel, D., Harmon, B. A., Mitasova, H.,  & Meentemeyer, R. K. (2016).\n",
    "   [Open Source Approach to Urban Growth Simulation](https://www.int-arch-photogramm-remote-sens-spatial-inf-sci.net/XLI-B7/953/2016/isprs-archives-XLI-B7-953-2016.pdf).\n",
    "   Int. Arch. Photogramm. Remote Sens. Spatial Inf. Sci., XLI-B7, 953-959.\n",
    "   DOI: 10.5194/isprsarchives-XLI-B7-953-2016\n",
    "\n",
    "\n",
    "\n",
    "## SEE ALSO\n",
    "_[r.futures.pga](r.futures.pga.html)_,\n",
    "_[r.futures.parallelpga](r.futures.parallelpga.html)_,\n",
    "_[r.futures.devpressure](r.futures.devpressure.html)_,\n",
    "_[r.futures.calib](r.futures.calib.html)_,\n",
    "_[r.futures.demand](r.futures.demand.html)_,\n",
    "_[r.futures.potsurface](r.futures.potsurface.html)_,\n",
    "_[r.sample.category](r.sample.category.html)_\n",
    "\n",
    "\n",
    "## AUTHORS\n",
    "\n",
    "\n",
    "_Corresponding author:_\n",
    "Ross K. Meentemeyer, rkmeente ncsu edu,\n",
    "[Center for Geospatial Analytics, NCSU](https://geospatial.ncsu.edu/)\n",
    "\n",
    "\n",
    "_Original standalone version:_\n",
    "\n",
    "Ross K. Meentemeyer *\n",
    "Wenwu Tang *\n",
    "Monica A. Dorning *\n",
    "John B. Vogler *\n",
    "Nik J. Cunniffe *\n",
    "Douglas A. Shoemaker *\n",
    "Jennifer A. Koch **\n",
    "\n",
    "\n",
    "* Department of Geography and Earth Sciences, UNC Charlotte\n",
    "** [Center for Geospatial Analytics, NCSU](https://geospatial.ncsu.edu/)\n",
    "\n",
    "\n",
    "_Port to GRASS GIS and GRASS-specific additions:_\n",
    "\n",
    "Vaclav Petras, [NCSU GeoForAll](https://geospatial.ncsu.edu/geoforall/)\n",
    "\n",
    "\n",
    "_Developement pressure, demand and calibration and preprocessing modules:_\n",
    "\n",
    "Anna Petrasova, [NCSU GeoForAll](https://geospatial.ncsu.edu/geoforall/)\n",
    "\n",
    "\n",
    "Last changed: $Date: 2018-09-14 21:49:22 -0400 (Fri, 14 Sep 2018) $"
   ]
  },
  {
   "cell_type": "code",
   "execution_count": null,
   "metadata": {},
   "outputs": [],
   "source": [
    "# end the GRASS session\n",
    "os.remove(rcfile)"
   ]
  }
 ],
 "metadata": {
  "kernelspec": {
   "display_name": "Python 2",
   "language": "python",
   "name": "python2"
  },
  "language_info": {
   "codemirror_mode": {
    "name": "ipython",
    "version": 2
   },
   "file_extension": ".py",
   "mimetype": "text/x-python",
   "name": "python",
   "nbconvert_exporter": "python",
   "pygments_lexer": "ipython2",
   "version": "2.7.12"
  }
 },
 "nbformat": 4,
 "nbformat_minor": 1
}
